{
 "cells": [
  {
   "cell_type": "markdown",
   "metadata": {
    "application/vnd.databricks.v1+cell": {
     "cellMetadata": {},
     "inputWidgets": {},
     "nuid": "fc749083-2211-485c-943f-640e198b2c70",
     "showTitle": false,
     "title": ""
    }
   },
   "source": [
    "## DSCC202-402 Data Science at Scale Final Project\n",
    "### Tracking Tweet sentiment at scale using a pretrained transformer (classifier)\n",
    "<p>Consider the following illustration of the end to end system that you will be building.  Each student should do their own work.  The project will demonstrate your understanding of Spark Streaming, the medalion data architecture using Delta Lake, Spark Inference at Scale using an MLflow packaged model as well as Exploritory Data Analysis and System Tracking and Monitoring.</p>\n",
    "<br><br>\n",
    "<img src=\"https://data-science-at-scale.s3.amazonaws.com/images/pipeline.drawio.png\">\n",
    "\n",
    "<p>\n",
    "You will be pulling an updated copy of the course GitHub repositiory: <a href=\"https://github.com/lpalum/dscc202-402-spring2024\">The Repo</a>.  If you are unclear on how to pull an updated copy using the GitHub command line, the following <a href=\"https://techwritingmatters.com/how-to-update-your-forked-repository-on-github\">document</a> is helpful.  Be sure to add the professors and TAs as collaborators on your project. \n",
    "\n",
    "- lpalum@gmail.com GitHub ID: lpalum\n",
    "- ajay.anand@rochester.edu GitHub ID: ajayan12\n",
    "- divyamunot1999@gmail.com GitHub ID: divyamunot\n",
    "- ylong6@u.Rochester.edu GitHub ID: NinaLong2077\n",
    "\n",
    "Once you have updates your fork of the repository you should see the following template project that is resident in the final_project directory.\n",
    "</p>\n",
    "\n",
    "<img src=\"https://data-science-at-scale.s3.amazonaws.com/images/notebooks.drawio.png\">\n",
    "\n",
    "<p>\n",
    "You can then pull your project into the Databrick Workspace using the <a href=\"https://www.databricks.training/step-by-step/importing-courseware-from-github/index.html\">Repos</a> feature.\n",
    "Each student is expected to submit the URL of their project on GitHub with their code checked in on the main/master branch.  This illustration highlights the branching scheme that you may use to work on your code in steps and then merge your submission into your master branch before submitting.\n",
    "</p>\n",
    "<img src=\"https://data-science-at-scale.s3.amazonaws.com/images/github.drawio.png\">\n",
    "<p>\n",
    "Work your way through this notebook which will give you the steps required to submit a complete and compliant project.  The following illustration and associated data dictionary specifies the transformations and data that you are to generate for each step in the medallion pipeline.\n",
    "</p>\n",
    "<br><br>\n",
    "<img src=\"https://data-science-at-scale.s3.amazonaws.com/images/dataframes.drawio.png\">\n",
    "\n",
    "#### Bronze Data - raw ingest\n",
    "- date - string in the source json\n",
    "- user - string in the source json\n",
    "- text - tweet string in the source json\n",
    "- sentiment - the given sentiment of the text as determined by an unknown model that is provided in the source json\n",
    "- source_file - the path of the source json file the this row of data was read from\n",
    "- processing_time - a timestamp of when you read this row from the source json\n",
    "\n",
    "#### Silver Data - Bronze Preprocessing\n",
    "- timestamp - convert date string in the bronze data to a timestamp\n",
    "- mention - every @username mentioned in the text string in the bronze data gets a row in this silver data table.\n",
    "- cleaned_text - the bronze text data with the mentions (@username) removed.\n",
    "- sentiment - the given sentiment that was associated with the text in the bronze table.\n",
    "\n",
    "#### Gold Data - Silver Table Inference\n",
    "- timestamp - the timestamp from the silver data table rows\n",
    "- mention - the mention from the silver data table rows\n",
    "- cleaned_text - the cleaned_text from the silver data table rows\n",
    "- sentiment - the given sentiment from the silver data table rows\n",
    "- predicted_score - score out of 100 from the Hugging Face Sentiment Transformer\n",
    "- predicted_sentiment - string representation of the sentiment\n",
    "- sentiment_id - 0 for negative and 1 for postive associated with the given sentiment\n",
    "- predicted_sentiment_id - 0 for negative and 1 for positive assocaited with the Hugging Face Sentiment Transformer\n",
    "\n",
    "#### Application Data - Gold Table Aggregation\n",
    "- min_timestamp - the oldest timestamp on a given mention (@username)\n",
    "- max_timestamp - the newest timestamp on a given mention (@username)\n",
    "- mention - the user (@username) that this row pertains to.\n",
    "- negative - total negative tweets directed at this mention (@username)\n",
    "- neutral - total neutral tweets directed at this mention (@username)\n",
    "- positive - total positive tweets directed at this mention (@username)\n",
    "\n",
    "When you are designing your approach, one of the main decisions that you will need to make is how you are going to orchestrate the streaming data processing in your pipeline.  There are several valid approaches.  First, you may choose to start the bronze_stream and let it complete (read and append all of the source data) before preceeding and starting up the silver_stream.  This approach has latency associated with it but it will allow your code to proceed in a linear fashion and process all the data by the end of your notebook execution.  Another potential approach is to start all the streams and have a \"watch\" method to determine when the pipeline has processed sufficient or all of the source data before stopping and displaying results.  Both of these approaches are valid and have different implications on how you will trigger your steams and how you will gate the execution of your pipeline.  Think through how you want to proceed and ask questions if you need guidance. The following references may be helpful:\n",
    "- [Spark Structured Streaming Programming Guide](https://spark.apache.org/docs/latest/structured-streaming-programming-guide.html)\n",
    "- [Databricks Autoloader - Cloudfiles](https://docs.databricks.com/en/ingestion/auto-loader/index.html)\n",
    "\n",
    "### Be sure that your project runs end to end when *Run all* is executued on this notebook! (15 Points out of 60)"
   ]
  },
  {
   "cell_type": "code",
   "execution_count": 0,
   "metadata": {
    "application/vnd.databricks.v1+cell": {
     "cellMetadata": {
      "byteLimit": 2048000,
      "rowLimit": 10000
     },
     "inputWidgets": {},
     "nuid": "068f25d0-1387-4342-89cf-ce82a8d614ce",
     "showTitle": true,
     "title": "Pull in the Includes & Utiltites"
    }
   },
   "outputs": [],
   "source": [
    "%run ./includes/includes"
   ]
  },
  {
   "cell_type": "code",
   "execution_count": 0,
   "metadata": {
    "application/vnd.databricks.v1+cell": {
     "cellMetadata": {
      "byteLimit": 2048000,
      "rowLimit": 10000
     },
     "inputWidgets": {},
     "nuid": "6512bf1b-50e0-4a4b-84a9-e280a6260b56",
     "showTitle": true,
     "title": "Notebook Control Widgets (maybe helpful)"
    }
   },
   "outputs": [],
   "source": [
    "\"\"\"\n",
    "Adding a widget to the notebook to control the clearing of a previous run.\n",
    "or stopping the active streams using routines defined in the utilities notebook\n",
    "\"\"\"\n",
    "dbutils.widgets.removeAll()\n",
    "\n",
    "dbutils.widgets.dropdown(\"clear_previous_run\", \"No\", [\"No\",\"Yes\"])\n",
    "if (getArgument(\"clear_previous_run\") == \"Yes\"):\n",
    "    clear_previous_run()\n",
    "    print(\"Cleared all previous data.\")\n",
    "\n",
    "dbutils.widgets.dropdown(\"stop_streams\", \"No\", [\"No\",\"Yes\"])\n",
    "if (getArgument(\"stop_streams\") == \"Yes\"):\n",
    "    stop_all_streams()\n",
    "    print(\"Stopped all active streams.\")\n",
    "\n",
    "from delta import *\n",
    "dbutils.widgets.dropdown(\"optimize_tables\", \"No\", [\"No\",\"Yes\"])\n",
    "if (getArgument(\"optimize_tables\") == \"Yes\"):\n",
    "    # Suck up those small files that we have been appending.\n",
    "    DeltaTable.forPath(spark, BRONZE_DELTA).optimize().executeCompaction()\n",
    "    # Suck up those small files that we have been appending.\n",
    "    DeltaTable.forPath(spark, SILVER_DELTA).optimize().executeCompaction()\n",
    "    # Suck up those small files that we have been appending.\n",
    "    DeltaTable.forPath(spark, GOLD_DELTA).optimize().executeCompaction()\n",
    "    print(\"Optimized all of the Delta Tables\")"
   ]
  },
  {
   "cell_type": "markdown",
   "metadata": {
    "application/vnd.databricks.v1+cell": {
     "cellMetadata": {},
     "inputWidgets": {},
     "nuid": "e8ce7c13-7f8f-4e11-b50c-fdaebbcf3f99",
     "showTitle": false,
     "title": ""
    }
   },
   "source": [
    "## 1.0 Import your libraries here...\n",
    "- Are your shuffle partitions consistent with your cluster and your workload?\n",
    "- Do you have the necessary libraries to perform the required operations in the pipeline/application?"
   ]
  },
  {
   "cell_type": "code",
   "execution_count": 0,
   "metadata": {
    "application/vnd.databricks.v1+cell": {
     "cellMetadata": {
      "byteLimit": 2048000,
      "rowLimit": 10000
     },
     "inputWidgets": {},
     "nuid": "67bafbb7-d34e-4e86-b159-b2e062faa1d0",
     "showTitle": false,
     "title": ""
    }
   },
   "outputs": [],
   "source": [
    "# Are your shuffle partitions consistent with your cluster and your workload?\n",
    "spark.conf.set(\"spark.sql.shuffle.partitions\", spark.sparkContext.defaultParallelism)\n",
    "\n",
    "# Do you have the necessary libraries to perform the required operations in the pipeline/application?\n",
    "from pyspark.sql.types import StructType, StructField, StringType, TimestampType\n",
    "from pyspark.sql.functions import count, isnan, col, when, current_timestamp, input_file_name, desc, explode, expr, to_timestamp, regexp_replace\n",
    "import matplotlib.pyplot as plt\n",
    "import mlflow\n",
    "from sklearn.metrics import confusion_matrix, ConfusionMatrixDisplay"
   ]
  },
  {
   "cell_type": "markdown",
   "metadata": {
    "application/vnd.databricks.v1+cell": {
     "cellMetadata": {},
     "inputWidgets": {},
     "nuid": "2b7624b4-0aa5-46b7-9767-52f462b2c574",
     "showTitle": false,
     "title": ""
    }
   },
   "source": [
    "## 2.0 Use the utility functions to ...\n",
    "- Read the source file directory listing\n",
    "- Count the source files (how many are there?)\n",
    "- print the contents of one of the files"
   ]
  },
  {
   "cell_type": "code",
   "execution_count": 0,
   "metadata": {
    "application/vnd.databricks.v1+cell": {
     "cellMetadata": {
      "byteLimit": 2048000,
      "rowLimit": 10000
     },
     "inputWidgets": {},
     "nuid": "a59749d5-e45d-460f-9be1-33652cda2ea5",
     "showTitle": false,
     "title": ""
    }
   },
   "outputs": [],
   "source": [
    "# Read the source file directory listing\n",
    "df = get_source_listing_df()\n",
    "# Count the source files (how many are there?)\n",
    "num_rows = df.count()\n",
    "print(f\"There are {num_rows[0]} source files.\")\n",
    "\n",
    "# print the contents of one of the files\n",
    "first_filename = df.loc[1, 'File Name']\n",
    "show_s3_file_contents(first_filename)"
   ]
  },
  {
   "cell_type": "markdown",
   "metadata": {
    "application/vnd.databricks.v1+cell": {
     "cellMetadata": {},
     "inputWidgets": {},
     "nuid": "1676aed7-527f-4ea7-9d3b-52544e8c1e37",
     "showTitle": false,
     "title": ""
    }
   },
   "source": [
    "## 3.0 Transform the Raw Data to Bronze Data using a stream\n",
    "- define the schema for the raw data\n",
    "- setup a read stream using cloudfiles and the source data format\n",
    "- setup a write stream using cloudfiles to append to the bronze delta table\n",
    "- enforce schema\n",
    "- allow a new schema to be merged into the bronze delta table\n",
    "- Use the defined BRONZE_CHECKPOINT and BRONZE_DELTA paths defines in the includes\n",
    "- name your raw to bronze stream as bronze_stream\n",
    "- transform the raw data to the bronze data using the data definition at the top of the notebook"
   ]
  },
  {
   "cell_type": "code",
   "execution_count": 0,
   "metadata": {
    "application/vnd.databricks.v1+cell": {
     "cellMetadata": {
      "byteLimit": 2048000,
      "rowLimit": 10000
     },
     "inputWidgets": {},
     "nuid": "5315a236-46bd-439f-9262-4bb2ce6ddfde",
     "showTitle": false,
     "title": ""
    }
   },
   "outputs": [],
   "source": [
    "# define the schema for the raw data\n",
    "schema = StructType([\n",
    "    StructField(\"date\", StringType(), True),\n",
    "    StructField(\"user\", StringType(), True),\n",
    "    StructField(\"text\", StringType(), True),\n",
    "    StructField(\"sentiment\", StringType(), True),\n",
    "    StructField(\"source_file\", StringType(), True),\n",
    "    StructField(\"processing_time\", TimestampType(), True)\n",
    "])"
   ]
  },
  {
   "cell_type": "code",
   "execution_count": 0,
   "metadata": {
    "application/vnd.databricks.v1+cell": {
     "cellMetadata": {
      "byteLimit": 2048000,
      "rowLimit": 10000
     },
     "inputWidgets": {},
     "nuid": "c4e37574-9885-4908-bf97-609d140a8818",
     "showTitle": false,
     "title": ""
    }
   },
   "outputs": [],
   "source": [
    "\n",
    "# setup a read stream using cloudfiles and the source data format\n",
    "df_stream = (\n",
    "    spark.readStream\n",
    "    .format(\"cloudFiles\")\n",
    "    .option(\"cloudFiles.format\", \"json\")\n",
    "    .option(\"cloudFiles.inferColumnTypes\", \"true\")\n",
    "    .option(\"cloudFiles.schemaLocation\", \"/mnt/delta/schema\")\n",
    "    # .option(\"cloudFiles.schemaEvolutionMode\", \"fail\") \n",
    "    .schema(schema) # enforce schema\n",
    "    .load(TWEET_SOURCE_PATH)\n",
    "    # .load('/mnt/test-tweet-sample')\n",
    ")\n",
    "\n",
    "# Add processing_time and source_file columns\n",
    "df_stream = df_stream.withColumn(\"processing_time\", current_timestamp())\n",
    "df_stream = df_stream.withColumn(\"source_file\", input_file_name())\n",
    "\n",
    "bronze_stream = (\n",
    "    df_stream.writeStream\n",
    "    .format(\"delta\")\n",
    "    .option(\"mergeSchema\", \"true\") # allow a new schema to be merged into the bronze delta table\n",
    "    .outputMode(\"append\")\n",
    "    .option(\"checkpointLocation\", BRONZE_CHECKPOINT) # Use the defined BRONZE_CHECKPOINT\n",
    "    .queryName(\"bronze_stream\")\n",
    "    .trigger(availableNow=True)\n",
    "    .start(BRONZE_DELTA) # Use the defined BRONZE_DELTA\n",
    ")"
   ]
  },
  {
   "cell_type": "code",
   "execution_count": 0,
   "metadata": {
    "application/vnd.databricks.v1+cell": {
     "cellMetadata": {
      "byteLimit": 2048000,
      "rowLimit": 10000
     },
     "inputWidgets": {},
     "nuid": "0ce5fadf-7830-4bd4-8d9b-2c1ef3cc6659",
     "showTitle": false,
     "title": ""
    }
   },
   "outputs": [],
   "source": [
    "bronze_stream.awaitTermination()"
   ]
  },
  {
   "cell_type": "code",
   "execution_count": 0,
   "metadata": {
    "application/vnd.databricks.v1+cell": {
     "cellMetadata": {
      "byteLimit": 2048000,
      "implicitDf": true,
      "rowLimit": 10000
     },
     "inputWidgets": {},
     "nuid": "efdb0b3d-0211-4cd5-b7e1-d5c19945982c",
     "showTitle": false,
     "title": ""
    }
   },
   "outputs": [],
   "source": [
    "# %sql\n",
    "# OPTIMIZE delta.`dbfs:/tmp/labuser104917-3018615/bronze.delta`;"
   ]
  },
  {
   "cell_type": "markdown",
   "metadata": {
    "application/vnd.databricks.v1+cell": {
     "cellMetadata": {},
     "inputWidgets": {},
     "nuid": "9bc3e824-d218-43e5-a43b-4c6dbe31950d",
     "showTitle": false,
     "title": ""
    }
   },
   "source": [
    "## 4.0 Bronze Data Exploratory Data Analysis\n",
    "- How many tweets are captured in your Bronze Table?\n",
    "- Are there any columns that contain Nan or Null values?  If so how many and what will you do in your silver transforms to address this?\n",
    "- Count the number of tweets by each unique user handle and sort the data by descending count.\n",
    "- How many tweets have at least one mention (@) how many tweet have no mentions (@)\n",
    "- Plot a bar chart that shows the top 20 tweeters (users)\n"
   ]
  },
  {
   "cell_type": "code",
   "execution_count": 0,
   "metadata": {
    "application/vnd.databricks.v1+cell": {
     "cellMetadata": {
      "byteLimit": 2048000,
      "rowLimit": 10000
     },
     "inputWidgets": {},
     "nuid": "091ec59c-d968-4acf-b56f-cc9178cd0693",
     "showTitle": false,
     "title": ""
    }
   },
   "outputs": [],
   "source": [
    "# How many tweets are captured in your Bronze Table?\n",
    "bronze_df = spark.read.format(\"delta\").load(BRONZE_DELTA)\n",
    "\n",
    "# Count the number of tweets\n",
    "tweet_count = bronze_df.count()\n",
    "print(f\"Total number of tweets: {tweet_count}\")\n",
    "\n",
    "# Are there any columns that contain Nan or Null values? If so how many and what will you do in your silver transforms to address this?\n",
    "print('+----+----+----+\\n')\n",
    "print('Total Nulls for each column')\n",
    "bronze_df.select([count(when(col(c).isNull(), c)).alias(c) for c in bronze_df.columns]).show()\n",
    "\n",
    "print('+----+----+----+\\n')\n",
    "\n",
    "print('Total NaNs for each column')\n",
    "bronze_df.select([\n",
    "    count(when(isnan(col(c)), c)).alias(c) \n",
    "    for c in bronze_df.columns if c != 'processing_time'\n",
    "]).show()\n",
    "print('+----+----+----+')\n",
    "\n",
    "# As seen below there are non Nulls or Nan values in the bronze table columns. If there were we would have to take into account which column it was. The user column is relevenat in the next tasks to aggregate number of tweets. The sentiment column is relevant in the future tasks to visualize the tweeter mentions with most negative or positive tweets etc.\n"
   ]
  },
  {
   "cell_type": "code",
   "execution_count": 0,
   "metadata": {
    "application/vnd.databricks.v1+cell": {
     "cellMetadata": {
      "byteLimit": 2048000,
      "rowLimit": 10000
     },
     "inputWidgets": {},
     "nuid": "57b2d634-8c34-4564-ad14-789c27f42e37",
     "showTitle": false,
     "title": ""
    }
   },
   "outputs": [],
   "source": [
    "# display(bronze_df)"
   ]
  },
  {
   "cell_type": "code",
   "execution_count": 0,
   "metadata": {
    "application/vnd.databricks.v1+cell": {
     "cellMetadata": {
      "byteLimit": 2048000,
      "rowLimit": 10000
     },
     "inputWidgets": {},
     "nuid": "e7b48d35-de64-47f0-b1fa-b3835b075742",
     "showTitle": false,
     "title": ""
    }
   },
   "outputs": [],
   "source": [
    "# Count the number of tweets by each unique user handle and sort the data by descending count.\n",
    "user_tweet_counts = bronze_df.groupBy(\"user\").count().orderBy(desc(\"count\"))\n",
    "display(user_tweet_counts)"
   ]
  },
  {
   "cell_type": "code",
   "execution_count": 0,
   "metadata": {
    "application/vnd.databricks.v1+cell": {
     "cellMetadata": {
      "byteLimit": 2048000,
      "rowLimit": 10000
     },
     "inputWidgets": {},
     "nuid": "cc54edf1-3d26-4d9e-9d60-0e11f7318679",
     "showTitle": false,
     "title": ""
    }
   },
   "outputs": [],
   "source": [
    "# How many tweets have at least one mention (@) how many tweet have no mentions (@)\n",
    "\n",
    "df_with_mentions = bronze_df.withColumn(\"has_mention\", when(col(\"text\").contains(\"@\"), 1).otherwise(0))\n",
    "\n",
    "# Count tweets with at least one mention\n",
    "tweets_with_mentions = df_with_mentions.filter(col(\"has_mention\") == 1).count()\n",
    "\n",
    "# Count tweets with no mentions\n",
    "tweets_without_mentions = df_with_mentions.filter(col(\"has_mention\") == 0).count()\n",
    "\n",
    "print(f\"Tweets with mentions: {tweets_with_mentions}\")\n",
    "print(f\"Tweets without mentions: {tweets_without_mentions}\")"
   ]
  },
  {
   "cell_type": "code",
   "execution_count": 0,
   "metadata": {
    "application/vnd.databricks.v1+cell": {
     "cellMetadata": {
      "byteLimit": 2048000,
      "rowLimit": 10000
     },
     "inputWidgets": {},
     "nuid": "1fa569a0-b882-43af-b7a7-6dec0fadcf3e",
     "showTitle": false,
     "title": ""
    }
   },
   "outputs": [],
   "source": [
    "# Plot a bar chart that shows the top 20 tweeters (users)\n",
    "\n",
    "# Convert Spark DataFrame to Pandas DataFrame for plotting\n",
    "top_tweeters_pd = user_tweet_counts.limit(20).toPandas()\n",
    "\n",
    "plt.figure(figsize=(12, 8))\n",
    "plt.bar(top_tweeters_pd['user'], top_tweeters_pd['count'], color='blue')\n",
    "plt.xlabel('Username')\n",
    "plt.ylabel('# of Tweets')\n",
    "plt.title('Top 20 Tweeters')\n",
    "plt.xticks(rotation=45)\n",
    "plt.show()"
   ]
  },
  {
   "cell_type": "markdown",
   "metadata": {
    "application/vnd.databricks.v1+cell": {
     "cellMetadata": {},
     "inputWidgets": {},
     "nuid": "38c290b9-a42a-4551-857b-3f461b8a1be6",
     "showTitle": false,
     "title": ""
    }
   },
   "source": [
    "## 5.0 Transform the Bronze Data to Silver Data using a stream\n",
    "- setup a read stream on your bronze delta table\n",
    "- setup a write stream to append to the silver delta table\n",
    "- Use the defined SILVER_CHECKPOINT and SILVER_DELTA paths in the includes\n",
    "- name your bronze to silver stream as silver_stream\n",
    "- transform the bronze data to the silver data using the data definition at the top of the notebook"
   ]
  },
  {
   "cell_type": "code",
   "execution_count": 0,
   "metadata": {
    "application/vnd.databricks.v1+cell": {
     "cellMetadata": {
      "byteLimit": 2048000,
      "rowLimit": 10000
     },
     "inputWidgets": {},
     "nuid": "65b029cb-ba45-4625-a9c1-d0d410a4962b",
     "showTitle": false,
     "title": ""
    }
   },
   "outputs": [],
   "source": [
    "spark.conf.set(\"spark.sql.legacy.timeParserPolicy\",\"LEGACY\") # new version of spark doesn't correctly identify the day with 'E'\n",
    "\n",
    "bronze_read_stream = (\n",
    "    spark.readStream\n",
    "    .format('delta')\n",
    "    .load(BRONZE_DELTA)\n",
    ")\n",
    "\n",
    "# Transformations\n",
    "silver_df = bronze_read_stream.withColumn(\"timestamp\", to_timestamp(\"date\", \"E MMM dd HH:mm:ss z yyyy\"))\n",
    "\n",
    "# Extract all mentions into a new column as an array\n",
    "silver_df = silver_df.withColumn(\"mentions\", expr(\"regexp_extract_all(text, '(?<=^|(?<=[^a-zA-Z0-9-_\\\\\\\\.]))@([A-Za-z]+[A-Za-z0-9_]+)', 0)\"))\n",
    "# Explode the mentions array into multiple rows, one for each mention\n",
    "silver_df = silver_df.withColumn(\"mention\", explode(col(\"mentions\"))).drop(\"mentions\")\n",
    "\n",
    "silver_df = silver_df.withColumn(\"cleaned_text\", regexp_replace(\"text\", \"(@\\\\w+)\", \"\"))\n",
    "\n",
    "# drop redundant columns\n",
    "silver_df = silver_df.drop(\"date\", \"user\", \"text\", \"source_file\", \"processing_time\")\n",
    "\n",
    "silver_stream = silver_df.writeStream \\\n",
    "    .format(\"delta\") \\\n",
    "    .outputMode(\"append\") \\\n",
    "    .option(\"checkpointLocation\", SILVER_CHECKPOINT) \\\n",
    "    .trigger(availableNow=True) \\\n",
    "    .queryName('silver_stream') \\\n",
    "    .start(SILVER_DELTA)\n"
   ]
  },
  {
   "cell_type": "code",
   "execution_count": 0,
   "metadata": {
    "application/vnd.databricks.v1+cell": {
     "cellMetadata": {
      "byteLimit": 2048000,
      "rowLimit": 10000
     },
     "inputWidgets": {},
     "nuid": "5f3e04fe-6c7b-4447-960f-73c26f0d52bf",
     "showTitle": false,
     "title": ""
    }
   },
   "outputs": [],
   "source": [
    "silver_stream.awaitTermination()"
   ]
  },
  {
   "cell_type": "markdown",
   "metadata": {
    "application/vnd.databricks.v1+cell": {
     "cellMetadata": {},
     "inputWidgets": {},
     "nuid": "9ee38aba-e340-4766-8339-71ef2ecfde3a",
     "showTitle": false,
     "title": ""
    }
   },
   "source": [
    "## 6.0 Transform the Silver Data to Gold Data using a stream\n",
    "- setup a read stream on your silver delta table\n",
    "- setup a write stream to append to the gold delta table\n",
    "- Use the defined GOLD_CHECKPOINT and GOLD_DELTA paths defines in the includes\n",
    "- name your silver to gold stream as gold_stream\n",
    "- transform the silver data to the gold data using the data definition at the top of the notebook\n",
    "- Load the pretrained transformer sentiment classifier from the MODEL_NAME at the production level from the MLflow registry\n",
    "- Use a spark UDF to parallelize the inference across your silver data"
   ]
  },
  {
   "cell_type": "code",
   "execution_count": 0,
   "metadata": {
    "application/vnd.databricks.v1+cell": {
     "cellMetadata": {
      "byteLimit": 2048000,
      "rowLimit": 10000
     },
     "inputWidgets": {},
     "nuid": "31e8949d-c016-44a7-9f03-65f471dfd22d",
     "showTitle": false,
     "title": ""
    }
   },
   "outputs": [],
   "source": [
    "silver_read_stream = (\n",
    "    spark.readStream\n",
    "    .format('delta')\n",
    "    .load(SILVER_DELTA)\n",
    ")\n",
    "\n",
    "# load model\n",
    "model_uri = f\"models:/{MODEL_NAME}/Production\"\n",
    "model = mlflow.pyfunc.spark_udf(spark, model_uri=model_uri)\n",
    "\n",
    "# apply transformations and prediction\n",
    "gold_df = silver_read_stream.withColumn(\"temp_predicted_sentiment\", model(col(\"cleaned_text\")))\n",
    "gold_df = gold_df.withColumn(\"predicted_score\", (col(\"temp_predicted_sentiment.score\") * 100).cast(\"int\"))\n",
    "gold_df = gold_df.withColumn(\"predicted_sentiment\", col(\"temp_predicted_sentiment.label\"))\n",
    "gold_df = gold_df.withColumn(\"sentiment_id\", when(col(\"sentiment\") == \"positive\", 1).otherwise(0))\n",
    "# If we have neutral predicted label we assign it as negative(0).\n",
    "gold_df = gold_df.withColumn(\"predicted_sentiment_id\", when(col(\"predicted_sentiment\") == \"POS\", 1).otherwise(0))\n",
    "\n",
    "# Drop redundant columns\n",
    "gold_df = gold_df.drop(\"temp_predicted_sentiment\")\n",
    "\n",
    "gold_stream = (\n",
    "    gold_df.writeStream\n",
    "    .format(\"delta\")\n",
    "    .outputMode(\"append\")\n",
    "    .option(\"checkpointLocation\", GOLD_CHECKPOINT)\n",
    "    .trigger(availableNow=True)\n",
    "    .queryName(\"siver_stream\")\n",
    "    .start(GOLD_DELTA)\n",
    ")\n"
   ]
  },
  {
   "cell_type": "code",
   "execution_count": 0,
   "metadata": {
    "application/vnd.databricks.v1+cell": {
     "cellMetadata": {
      "byteLimit": 2048000,
      "rowLimit": 10000
     },
     "inputWidgets": {},
     "nuid": "03863bd4-624c-4328-868c-192a8f2fa8c7",
     "showTitle": false,
     "title": ""
    }
   },
   "outputs": [],
   "source": [
    "\n",
    "gold_stream.awaitTermination()"
   ]
  },
  {
   "cell_type": "code",
   "execution_count": 0,
   "metadata": {
    "application/vnd.databricks.v1+cell": {
     "cellMetadata": {
      "byteLimit": 2048000,
      "rowLimit": 10000
     },
     "inputWidgets": {},
     "nuid": "ed260b0c-25ec-4fab-83b3-5d058562b084",
     "showTitle": false,
     "title": ""
    }
   },
   "outputs": [],
   "source": [
    "# test_df = spark.read.format(\"delta\").load(GOLD_DELTA)\n",
    "# display(test_df)\n",
    "# dbutils.fs.rm(GOLD_CHECKPOINT, True)"
   ]
  },
  {
   "cell_type": "markdown",
   "metadata": {
    "application/vnd.databricks.v1+cell": {
     "cellMetadata": {},
     "inputWidgets": {},
     "nuid": "0494d8b4-5a55-47fc-af12-47325f34a303",
     "showTitle": false,
     "title": ""
    }
   },
   "source": [
    "## 7.0 Capture the accuracy metrics from the gold table in MLflow\n",
    "Store the following in an MLflow experiment run:\n",
    "- Store the precision, recall, and F1-score as MLflow metrics\n",
    "- Store an image of the confusion matrix as an MLflow artifact\n",
    "- Store the mdoel name and the MLflow version that was used as an MLflow parameters\n",
    "- Store the version of the Delta Table (input-silver) as an MLflow parameter"
   ]
  },
  {
   "cell_type": "code",
   "execution_count": 0,
   "metadata": {
    "application/vnd.databricks.v1+cell": {
     "cellMetadata": {
      "byteLimit": 2048000,
      "rowLimit": 10000
     },
     "inputWidgets": {},
     "nuid": "3bb174ad-67e4-4b0a-be36-ff20a760ee8b",
     "showTitle": false,
     "title": ""
    }
   },
   "outputs": [],
   "source": [
    "final_gold_df = spark.read.format('delta').load(GOLD_DELTA) # TODO ask if we should store the gold or silver table version\n",
    "\n",
    "# Store the precision, recall, and F1-score as MLflow metrics\n",
    "mlflow.start_run()\n",
    "model_name = MODEL_NAME\n",
    "mlflow_version = mlflow.__version__\n",
    "\n",
    "# Compute TP, FP, FN, TN\n",
    "TP = final_gold_df.select(\"predicted_sentiment_id\", \"sentiment_id\").where((col(\"predicted_sentiment_id\") == 1) & (col(\"sentiment_id\") == 1)).count()\n",
    "FP = final_gold_df.select(\"predicted_sentiment_id\", \"sentiment_id\").where((col(\"predicted_sentiment_id\") == 1) & (col(\"sentiment_id\") == 0)).count()\n",
    "FN = final_gold_df.select(\"predicted_sentiment_id\", \"sentiment_id\").where((col(\"predicted_sentiment_id\") == 0) & (col(\"sentiment_id\") == 1)).count()\n",
    "TN = final_gold_df.select(\"predicted_sentiment_id\", \"sentiment_id\").where((col(\"predicted_sentiment_id\") == 0) & (col(\"sentiment_id\") == 0)).count()\n",
    "\n",
    "# Calculate precision, recall, and F1 score\n",
    "precision = TP / (TP + FP) if TP + FP != 0 else 0\n",
    "recall = TP / (TP + FN) if TP + FN != 0 else 0\n",
    "f1_score = 2 * (precision * recall) / (precision + recall) if precision + recall != 0 else 0\n",
    "\n",
    "# Store the precision, recall, and F1-score as MLflow metrics \n",
    "mlflow.log_metric(\"precision\", precision)\n",
    "mlflow.log_metric(\"recall\", recall)\n",
    "mlflow.log_metric(\"f1_score\", f1_score)"
   ]
  },
  {
   "cell_type": "code",
   "execution_count": 0,
   "metadata": {
    "application/vnd.databricks.v1+cell": {
     "cellMetadata": {
      "byteLimit": 2048000,
      "rowLimit": 10000
     },
     "inputWidgets": {},
     "nuid": "76defdff-e920-4708-a14d-0a96d895ca50",
     "showTitle": false,
     "title": ""
    }
   },
   "outputs": [],
   "source": [
    "# mlflow.end_run()"
   ]
  },
  {
   "cell_type": "code",
   "execution_count": 0,
   "metadata": {
    "application/vnd.databricks.v1+cell": {
     "cellMetadata": {
      "byteLimit": 2048000,
      "rowLimit": 10000
     },
     "inputWidgets": {},
     "nuid": "b3729ba0-8658-4ff0-8af5-3eb1b51e2bcd",
     "showTitle": false,
     "title": ""
    }
   },
   "outputs": [],
   "source": [
    "# Store an image of the confusion matrix as an MLflow artifact\n",
    "\n",
    "############ IMPORTANT ##############\n",
    "# Given that before we have considered the predicted neutral labels as negative, we will have a lot more TN and FN in the confusion matrix.\n",
    "\n",
    "y_true = final_gold_df.select(\"sentiment_id\").collect()\n",
    "y_pred = final_gold_df.select(\"predicted_sentiment_id\").collect()\n",
    "\n",
    "# Generate the confusion matrix\n",
    "cm = confusion_matrix(y_true, y_pred)\n",
    "\n",
    "# Plot and save the confusion matrix\n",
    "fig, ax = plt.subplots(figsize=(5,5))\n",
    "disp = ConfusionMatrixDisplay(confusion_matrix=cm)\n",
    "disp.plot(cmap=plt.cm.Blues, ax=ax)\n",
    "plt.savefig(\"confusion_matrix.png\")\n",
    "plt.close()\n",
    "\n",
    "# Log the confusion matrix image as an artifact\n",
    "mlflow.log_artifact(\"confusion_matrix.png\")\n",
    "\n",
    "# Store the mdoel name and the MLflow version that was used as an MLflow parameters\n",
    "mlflow.log_param(\"model_name\", model_name)\n",
    "mlflow.log_param(\"mlflow_version\", mlflow_version)\n",
    "\n",
    "# get table version\n",
    "deltaTable = DeltaTable.forPath(spark, GOLD_DELTA)\n",
    "\n",
    "history_df = deltaTable.history() \\\n",
    "    .select(\"version\") \\\n",
    "    .orderBy(\"version\", ascending=False)\n",
    "\n",
    "delta_table_version = history_df.collect()[0][0]\n",
    " # Store the version of the Delta Table (input-silver) as an MLflow parameter\n",
    "mlflow.log_param(\"delta_table_version\", delta_table_version)\n",
    "mlflow.end_run()"
   ]
  },
  {
   "cell_type": "markdown",
   "metadata": {
    "application/vnd.databricks.v1+cell": {
     "cellMetadata": {},
     "inputWidgets": {},
     "nuid": "81e0e2de-b872-4698-81cc-1669646c2183",
     "showTitle": false,
     "title": ""
    }
   },
   "source": [
    "## 8.0 Application Data Processing and Visualization\n",
    "- How many mentions are there in the gold data total?\n",
    "- Count the number of neutral, positive and negative tweets for each mention in new columns\n",
    "- Capture the total for each mention in a new column\n",
    "- Sort the mention count totals in descending order\n",
    "- Plot a bar chart of the top 20 mentions with positive sentiment (the people who are in favor)\n",
    "- Plot a bar chart of the top 20 mentions with negative sentiment (the people who are the vilians)\n",
    "\n",
    "You may want to use the \"Loop Application\" widget to control whether you repeateded display the latest plots while the data comes in from your streams before moving on to the next section and cleaning up your run.\n",
    "\n",
    "*note: A mention is a specific twitter user that has been \"mentioned\" in a tweet with an @user reference."
   ]
  },
  {
   "cell_type": "code",
   "execution_count": 0,
   "metadata": {
    "application/vnd.databricks.v1+cell": {
     "cellMetadata": {
      "byteLimit": 2048000,
      "rowLimit": 10000
     },
     "inputWidgets": {},
     "nuid": "8250667b-eaa5-48a1-90c7-bfe11e666e32",
     "showTitle": false,
     "title": ""
    }
   },
   "outputs": [],
   "source": [
    "total_mentions = final_gold_df.filter(col(\"mention\").isNotNull()).count()\n",
    "print(f\"mentions in the gold data total: {total_mentions} \\n\")\n",
    "\n",
    "aggregated_df = final_gold_df.groupBy(\"mention\").agg(\n",
    "    count(when(col(\"sentiment\") == \"neutral\", True)).alias(\"neutral_count\"),\n",
    "    count(when(col(\"sentiment\") == \"positive\", True)).alias(\"positive_count\"),\n",
    "    count(when(col(\"sentiment\") == \"negative\", True)).alias(\"negative_count\"),\n",
    "    count(\"mention\").alias(\"total_mentions\")\n",
    ").orderBy(\"total_mentions\", ascending=False)\n",
    "\n",
    "\n",
    "# Sorting the DataFrame by positive and negative counts\n",
    "top_positive_mentions = aggregated_df.orderBy(\"positive_count\", ascending=False).limit(20)\n",
    "top_negative_mentions = aggregated_df.orderBy(\"negative_count\", ascending=False).limit(20)\n",
    "\n",
    "\n",
    "def plot_mentions(df, title, sentiment):\n",
    "    data = df.select(\"mention\", sentiment).collect()\n",
    "    mentions = [x[\"mention\"] for x in data]\n",
    "    counts = [x[sentiment] for x in data]\n",
    "    \n",
    "    plt.figure(figsize=(10, 5))\n",
    "    plt.bar(mentions, counts, color='blue')\n",
    "    plt.xlabel('Mentions')\n",
    "    plt.ylabel('Counts')\n",
    "    plt.title(title)\n",
    "    plt.xticks(rotation=45)\n",
    "    plt.tight_layout()\n",
    "    plt.show()\n",
    "\n",
    "# Plot for top 20 positive mentions\n",
    "plot_mentions(top_positive_mentions, 'Top 20 Mentions with Positive Sentiment', 'positive_count')\n",
    "\n",
    "# Plot for top 20 negative mentions\n",
    "plot_mentions(top_negative_mentions, 'Top 20 Mentions with Negative Sentiment', 'negative_count')"
   ]
  },
  {
   "cell_type": "markdown",
   "metadata": {
    "application/vnd.databricks.v1+cell": {
     "cellMetadata": {},
     "inputWidgets": {},
     "nuid": "5d5add3f-0c13-4d81-86d8-12cf3cfdd2c8",
     "showTitle": false,
     "title": ""
    }
   },
   "source": [
    "## 9.0 Clean up and completion of your pipeline\n",
    "- using the utilities what streams are running? If any.\n",
    "- Stop all active streams\n",
    "- print out the elapsed time of your notebook."
   ]
  },
  {
   "cell_type": "code",
   "execution_count": 0,
   "metadata": {
    "application/vnd.databricks.v1+cell": {
     "cellMetadata": {
      "byteLimit": 2048000,
      "rowLimit": 10000
     },
     "inputWidgets": {},
     "nuid": "0304e685-c26e-447d-b230-c37266f30003",
     "showTitle": false,
     "title": ""
    }
   },
   "outputs": [],
   "source": [
    "# using the utilities what streams are running? If any.\n",
    "show_active_streams()\n",
    "# Stop all active streams\n",
    "stop_all_streams()"
   ]
  },
  {
   "cell_type": "code",
   "execution_count": 0,
   "metadata": {
    "application/vnd.databricks.v1+cell": {
     "cellMetadata": {
      "byteLimit": 2048000,
      "rowLimit": 10000
     },
     "inputWidgets": {},
     "nuid": "ea759fc8-1d78-4d6d-b571-e2e256448b76",
     "showTitle": false,
     "title": ""
    }
   },
   "outputs": [],
   "source": [
    "# Get the notebooks ending time note START_TIME was established in the include file when the notebook started.\n",
    "END_TIME = time.time()\n",
    "\n",
    "elapsed_time = END_TIME - START_TIME\n",
    "minutes = int(elapsed_time // 60)\n",
    "seconds = elapsed_time % 60\n",
    "print(f\"Elapsed Time: {minutes} minutes and {seconds:.2f} seconds\")\n"
   ]
  },
  {
   "cell_type": "markdown",
   "metadata": {
    "application/vnd.databricks.v1+cell": {
     "cellMetadata": {},
     "inputWidgets": {},
     "nuid": "b88fc0e5-f50c-4ed1-9480-16a4c8a44b30",
     "showTitle": false,
     "title": ""
    }
   },
   "source": [
    "## 10.0 How Optimized is your Spark Application (Grad Students Only)\n",
    "Graduate students (registered for the DSCC-402 section of the course) are required to do this section.  This is a written analysis using the Spark UI (link to screen shots) that support your analysis of your pipelines execution and what is driving its performance.\n",
    "Recall that Spark Optimization has 5 significant dimensions of considertation:\n",
    "- Spill: write to executor disk due to lack of memory\n",
    "- Skew: imbalance in partition size\n",
    "- Shuffle: network io moving data between executors (wide transforms)\n",
    "- Storage: inefficiency due to disk storage format (small files, location)\n",
    "- Serialization: distribution of code segments across the cluster\n",
    "\n",
    "Comment on each of the dimentions of performance and how your impelementation is or is not being affected.  Use specific information in the Spark UI to support your description.  \n",
    "\n",
    "Note: you can take sreenshots of the Spark UI from your project runs in databricks and then link to those pictures by storing them as a publicly accessible file on your cloud drive (google, one drive, etc.)\n",
    "\n",
    "References:\n",
    "- [Spark UI Reference Reference](https://spark.apache.org/docs/latest/web-ui.html#web-ui)\n",
    "- [Spark UI Simulator](https://www.databricks.training/spark-ui-simulator/index.html)"
   ]
  },
  {
   "cell_type": "markdown",
   "metadata": {
    "application/vnd.databricks.v1+cell": {
     "cellMetadata": {},
     "inputWidgets": {},
     "nuid": "a0a5707d-a5ca-4e87-9e74-3b13d00337b0",
     "showTitle": false,
     "title": ""
    }
   },
   "source": [
    "### ENTER YOUR MARKDOWN HERE\n",
    "1- Spill\n",
    "\n",
    "<p>In order to have spill in an Executor node we need to be making a transformation on a data partition that is too large on that executor and beyond its memory.\n",
    "To check this we look in the job execution at \"Input Size/Records,\" \"Output Size/Records,\" and \"Shuffle Read/Write Size\" if there are values that are too large for an executor.</p>\n",
    "<p>\n",
    "If indeed there is a \"Memory Spilled\" or \"Disk Spilled.\" it will show up as a column in the tasks description in spark ui.\n",
    "Below I have an image of part of task 4 where we count the number of tweets per twitter handle.\n",
    "</p>\n",
    "<p><img src=\"https://drive.google.com/thumbnail?id=107IyI5GLfd3ECdjpTuNSBwQtnauTzWCT&sz=w1000\">\n",
    "<br>\n",
    "There is no spill here or in any other task of the pipeline and therefore the columns do not show.\n",
    "</p>\n",
    "<p>\n",
    "If there was a spill it would look like this example below taken from medium:<br>\n",
    "https://medium.com/road-to-data-engineering/spark-performance-optimization-series-2-spill-685126e9d21f\n",
    "<br>\n",
    "</p>\n",
    "<img src=\"https://drive.google.com/thumbnail?id=1S2-tSk8N9ZUF4NdPo1XZY077Vl_BEMgl&sz=w1000\">\n",
    "<br>\n",
    "+-----------------+"
   ]
  },
  {
   "cell_type": "markdown",
   "metadata": {
    "application/vnd.databricks.v1+cell": {
     "cellMetadata": {},
     "inputWidgets": {},
     "nuid": "2cf43487-15cd-434c-add3-655631f5414c",
     "showTitle": false,
     "title": ""
    }
   },
   "source": [
    "2- Skew\n",
    "<p>In order for skew to present iteself we need to have partitions that are imbalanced. We would see this when having many tasks, one or some of them could take much longer than the others because of the larger partition. <br>For example in task 4 when we group the number of tweets by unique twitter handle we have a much larger partition for the <b>handle tweetpet</b>.\n",
    "Below after using spark ui we can see that a few tasks of the total 27 take longer than the others.<br>\n",
    "Another way to notice skew is through spill on disk, if we have an unusually large partition based on a column that we are grouping by then we can have data spill on disk for that particular executor that has the task. \n",
    "This is resolved through salting or other more advanced methods which are implemented automatically by spark and databricks.</p>\n",
    "<img src=\"https://drive.google.com/thumbnail?id=1p6uYw8IBxQITy4fcQ87YQjgP3AykHoCQ&sz=w2000\">\n",
    "<br>\n",
    "<img src=\"https://drive.google.com/thumbnail?id=1kV7bjCvDLNnzhFDkD2NDrmEfej1uLJWE&sz=w2000\">\n",
    "<br>\n",
    "<img src=\"https://drive.google.com/thumbnail?id=1hnzvFP5hl96rHnuE8-qNqHvtrtNm6I4C&sz=w2000\">\n",
    "\n"
   ]
  },
  {
   "cell_type": "markdown",
   "metadata": {
    "application/vnd.databricks.v1+cell": {
     "cellMetadata": {},
     "inputWidgets": {},
     "nuid": "e1857a04-93c1-42e1-8957-b82776e6441d",
     "showTitle": false,
     "title": ""
    }
   },
   "source": [
    "3-Shuffle\n",
    "\n",
    "<p>This is the DAG for the part of task 4 where we count the number of tweets for each handle. This is a wide transformation and therefore has shuffles. We have already set the number of shuffle partitions the same as the number of cores we have on our cluster, so we should be avoiding any problems.</p>\n",
    "<img src=\"https://drive.google.com/thumbnail?id=1C8PuDo4yRM01jF-7X_D4eCpPdVtPGoOP&sz=w1000\">\n",
    "<p>From the next image we can see that the shuffle write was only 3.1 megabytes as the dataframe has been optimized by spark and databricks AQE to only contain the neccessary columns.</p>\n",
    "<img src=\"https://drive.google.com/thumbnail?id=1A4ZOGXwyDShkNUFrv-uPdbX-5s-96LWm&sz=w2000\">\n"
   ]
  },
  {
   "cell_type": "markdown",
   "metadata": {
    "application/vnd.databricks.v1+cell": {
     "cellMetadata": {},
     "inputWidgets": {},
     "nuid": "dddafe52-4d7d-4f0d-a17c-ac44f08e4afc",
     "showTitle": false,
     "title": ""
    }
   },
   "source": [
    "4- Storage\n",
    "<br>\n",
    "If we have too many small files this can cause a delay in reading them from storage. In order to avoid this in databricks we can use the method OPTIMIZE delta.`dbfs:/tmp/labuser104917-3018615/bronze.delta`; Databricks also has warnings when we have very small files. When optimizing the files with this method my pipeline run time increased signficantly which led me to comment the line.\n",
    "This could have been because of the initial overhead and team this command requires as it commpacts smaller files into fewer larger ones. Also, if our Delta table was previously cached by Spark, running OPTIMIZE would invalidate this cache because the underlying data files have changed. Subsequent queries need to reload data into memory, which could slow down their first execution.\n",
    "<br>\n",
    "Other methods from spark that can be used to fix storage issues by compaction smaller files into larger files are:<br>\n",
    "1- repartition()\n",
    "<br>\n",
    "2- coalesce()\n",
    "<br>\n",
    "<img src=\"https://drive.google.com/thumbnail?id=1tc6IdcziogCHRNEM7ReZl0hlFd3KPR8e&sz=w2000\">\n",
    "<br>\n",
    "<img src=\"https://drive.google.com/thumbnail?id=1bfuFlrEuXmxFC5FU96Ni55Av3WVq7m6n&sz=w2000\">\n"
   ]
  },
  {
   "cell_type": "markdown",
   "metadata": {
    "application/vnd.databricks.v1+cell": {
     "cellMetadata": {},
     "inputWidgets": {},
     "nuid": "b4a5d34c-1109-4de1-92e0-aa2113d02f41",
     "showTitle": false,
     "title": ""
    }
   },
   "source": [
    "5- Serialization\n",
    "\n",
    "<p>\n",
    "This is comprised from: \n",
    "<br> 1- The task deserialization time which the executor needs to deserialize the task assigned by the driver.\n",
    "<br> 2- The task serialization time needed to send the result back to the driver.\n",
    "<br>\n",
    "Since we only have one driver and one worker, both of this times should be small because they need to be sent to only one executor node.\n",
    "As we can see in the picture below many tasks may not have a result serialization time(it can be 0) beacuse we writting to the delta path and not sending any results back to the driver.\n",
    "</p>\n",
    "<img src=\"https://drive.google.com/thumbnail?id=1U22WaU4RJOm6FvJiIG5vV-xMAytCXChs&sz=w1000\">\n",
    "<br>\n",
    "Here we can see also some summary statistics including serialization and deserialization time for the tasks in a stage.<br>\n",
    "<img src=\"https://drive.google.com/thumbnail?id=1c2vDPlOpHFrA1vuRoF8bjRhS5QBEBxqa&sz=w1000\">\n",
    "\n"
   ]
  }
 ],
 "metadata": {
  "application/vnd.databricks.v1+notebook": {
   "dashboards": [],
   "language": "python",
   "notebookMetadata": {
    "mostRecentlyExecutedCommandWithImplicitDF": {
     "commandId": -1,
     "dataframes": [
      "_sqldf"
     ]
    },
    "pythonIndentUnit": 4,
    "widgetLayout": [
     {
      "breakBefore": false,
      "name": "clear_previous_run",
      "width": 203
     },
     {
      "breakBefore": false,
      "name": "stop_streams",
      "width": 203
     }
    ]
   },
   "notebookName": "Starter Streaming Tweet Sentiment - Spring 2024 Final Project",
   "widgets": {
    "clear_previous_run": {
     "currentValue": "Yes",
     "nuid": "11b43403-c70f-41ef-ab0e-41172583baaa",
     "typedWidgetInfo": null,
     "widgetInfo": {
      "widgetType": "dropdown",
      "defaultValue": "No",
      "label": null,
      "name": "clear_previous_run",
      "options": {
       "widgetType": "dropdown",
       "autoCreated": null,
       "choices": [
        "No",
        "Yes"
       ]
      }
     }
    },
    "optimize_tables": {
     "currentValue": "No",
     "nuid": "b84faa8e-9689-4162-84c5-51a9ac6fa361",
     "typedWidgetInfo": null,
     "widgetInfo": {
      "widgetType": "dropdown",
      "defaultValue": "No",
      "label": null,
      "name": "optimize_tables",
      "options": {
       "widgetType": "dropdown",
       "autoCreated": null,
       "choices": [
        "No",
        "Yes"
       ]
      }
     }
    },
    "stop_streams": {
     "currentValue": "No",
     "nuid": "d4cb2f5e-e2ef-41e3-b6ec-e76d9c961e74",
     "typedWidgetInfo": null,
     "widgetInfo": {
      "widgetType": "dropdown",
      "defaultValue": "No",
      "label": null,
      "name": "stop_streams",
      "options": {
       "widgetType": "dropdown",
       "autoCreated": null,
       "choices": [
        "No",
        "Yes"
       ]
      }
     }
    }
   }
  }
 },
 "nbformat": 4,
 "nbformat_minor": 0
}
